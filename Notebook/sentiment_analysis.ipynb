{
 "cells": [
  {
   "cell_type": "code",
   "execution_count": null,
   "id": "34d50c40-285a-4c27-84c6-d5e29ecbe2f9",
   "metadata": {},
   "outputs": [],
   "source": [
    "from transformers import pipeline\n",
    "import pandas as pd"
   ]
  },
  {
   "cell_type": "code",
   "execution_count": null,
   "id": "c07d2947-7ffc-4979-a68e-bfe8cf7ea7d9",
   "metadata": {},
   "outputs": [],
   "source": [
    "classifier = pipeline(\"sentiment-analysis\", model=\"distilbert-base-uncased-finetuned-sst-2-english\")\n",
    "df = pd.read_csv(\"data/cleaned_reviews.csv\")\n",
    "df = df[df[\"review\"].str.strip().astype(bool)]  # remove empty\n",
    "\n",
    "sentiments = classifier(df[\"review\"].tolist(), truncation=True)\n",
    "df[\"sentiment\"] = [s[\"label\"].lower() for s in sentiments]\n",
    "df[\"sentiment_score\"] = [s[\"score\"] for s in sentiments]\n",
    "\n",
    "df.to_csv(\"data/sentiment_reviews.csv\", index=False)"
   ]
  },
  {
   "cell_type": "code",
   "execution_count": null,
   "id": "49603554-f17d-4897-885c-52b622aad70d",
   "metadata": {},
   "outputs": [],
   "source": []
  }
 ],
 "metadata": {
  "kernelspec": {
   "display_name": "bank-app-env",
   "language": "python",
   "name": "bank-app-env"
  },
  "language_info": {
   "codemirror_mode": {
    "name": "ipython",
    "version": 3
   },
   "file_extension": ".py",
   "mimetype": "text/x-python",
   "name": "python",
   "nbconvert_exporter": "python",
   "pygments_lexer": "ipython3",
   "version": "3.11.4"
  }
 },
 "nbformat": 4,
 "nbformat_minor": 5
}
