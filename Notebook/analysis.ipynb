{
 "cells": [
  {
   "cell_type": "code",
   "execution_count": 1,
   "id": "7c7359e5-ffcb-499c-9d10-e64ec367e637",
   "metadata": {},
   "outputs": [],
   "source": [
    "import pandas as pd\n",
    "import seaborn as sns\n",
    "import matplotlib.pyplot as plt\n",
    "from wordcloud import WordCloud"
   ]
  },
  {
   "cell_type": "code",
   "execution_count": 2,
   "id": "1393b82a-5a5c-40f8-97b5-2eb1dde5f849",
   "metadata": {},
   "outputs": [],
   "source": [
    "df = pd.read_csv(\"data/thematic_reviews.csv\")"
   ]
  },
  {
   "cell_type": "code",
   "execution_count": 3,
   "id": "fd631db0-7a2b-4b9d-935a-dbc33dfee788",
   "metadata": {},
   "outputs": [
    {
     "data": {
      "text/html": [
       "<div>\n",
       "<style scoped>\n",
       "    .dataframe tbody tr th:only-of-type {\n",
       "        vertical-align: middle;\n",
       "    }\n",
       "\n",
       "    .dataframe tbody tr th {\n",
       "        vertical-align: top;\n",
       "    }\n",
       "\n",
       "    .dataframe thead th {\n",
       "        text-align: right;\n",
       "    }\n",
       "</style>\n",
       "<table border=\"1\" class=\"dataframe\">\n",
       "  <thead>\n",
       "    <tr style=\"text-align: right;\">\n",
       "      <th></th>\n",
       "      <th>review</th>\n",
       "      <th>rating</th>\n",
       "      <th>date</th>\n",
       "      <th>bank</th>\n",
       "      <th>source</th>\n",
       "      <th>sentiment</th>\n",
       "      <th>sentiment_score</th>\n",
       "      <th>clean_review</th>\n",
       "      <th>themes</th>\n",
       "    </tr>\n",
       "  </thead>\n",
       "  <tbody>\n",
       "    <tr>\n",
       "      <th>0</th>\n",
       "      <td>what is this app problem???</td>\n",
       "      <td>1</td>\n",
       "      <td>2025-06-05</td>\n",
       "      <td>CBE</td>\n",
       "      <td>Google Play</td>\n",
       "      <td>negative</td>\n",
       "      <td>0.999623</td>\n",
       "      <td>app problem</td>\n",
       "      <td>other</td>\n",
       "    </tr>\n",
       "    <tr>\n",
       "      <th>1</th>\n",
       "      <td>not functional</td>\n",
       "      <td>1</td>\n",
       "      <td>2025-06-05</td>\n",
       "      <td>CBE</td>\n",
       "      <td>Google Play</td>\n",
       "      <td>negative</td>\n",
       "      <td>0.999779</td>\n",
       "      <td>functional</td>\n",
       "      <td>other</td>\n",
       "    </tr>\n",
       "    <tr>\n",
       "      <th>2</th>\n",
       "      <td>everytime you uninstall the app you have to re...</td>\n",
       "      <td>1</td>\n",
       "      <td>2025-06-04</td>\n",
       "      <td>CBE</td>\n",
       "      <td>Google Play</td>\n",
       "      <td>negative</td>\n",
       "      <td>0.990516</td>\n",
       "      <td>everytime uninstall app reach physically oldy ...</td>\n",
       "      <td>other</td>\n",
       "    </tr>\n",
       "    <tr>\n",
       "      <th>3</th>\n",
       "      <td>yetemeta</td>\n",
       "      <td>1</td>\n",
       "      <td>2025-06-03</td>\n",
       "      <td>CBE</td>\n",
       "      <td>Google Play</td>\n",
       "      <td>positive</td>\n",
       "      <td>0.655366</td>\n",
       "      <td>yetemeta</td>\n",
       "      <td>other</td>\n",
       "    </tr>\n",
       "    <tr>\n",
       "      <th>4</th>\n",
       "      <td>it is not safety</td>\n",
       "      <td>1</td>\n",
       "      <td>2025-06-03</td>\n",
       "      <td>CBE</td>\n",
       "      <td>Google Play</td>\n",
       "      <td>negative</td>\n",
       "      <td>0.999787</td>\n",
       "      <td>safety</td>\n",
       "      <td>other</td>\n",
       "    </tr>\n",
       "  </tbody>\n",
       "</table>\n",
       "</div>"
      ],
      "text/plain": [
       "                                              review  rating        date bank  \\\n",
       "0                        what is this app problem???       1  2025-06-05  CBE   \n",
       "1                                     not functional       1  2025-06-05  CBE   \n",
       "2  everytime you uninstall the app you have to re...       1  2025-06-04  CBE   \n",
       "3                                           yetemeta       1  2025-06-03  CBE   \n",
       "4                                   it is not safety       1  2025-06-03  CBE   \n",
       "\n",
       "        source sentiment  sentiment_score  \\\n",
       "0  Google Play  negative         0.999623   \n",
       "1  Google Play  negative         0.999779   \n",
       "2  Google Play  negative         0.990516   \n",
       "3  Google Play  positive         0.655366   \n",
       "4  Google Play  negative         0.999787   \n",
       "\n",
       "                                        clean_review themes  \n",
       "0                                        app problem  other  \n",
       "1                                         functional  other  \n",
       "2  everytime uninstall app reach physically oldy ...  other  \n",
       "3                                           yetemeta  other  \n",
       "4                                             safety  other  "
      ]
     },
     "execution_count": 3,
     "metadata": {},
     "output_type": "execute_result"
    }
   ],
   "source": [
    "df.head()"
   ]
  },
  {
   "cell_type": "code",
   "execution_count": 5,
   "id": "eb7c44d7-89da-4001-8420-6b140b5ea444",
   "metadata": {},
   "outputs": [
    {
     "name": "stdout",
     "output_type": "stream",
     "text": [
      "\n",
      "Top Drivers for CBE:\n",
      "    bank    themes sentiment  count\n",
      "35  CBE     other  positive    785\n",
      "21  CBE        UX  positive     47\n",
      "28  CBE  features  positive     22\n",
      "\n",
      "Top Pain Points for CBE:\n",
      "    bank       themes sentiment  count\n",
      "34  CBE        other  negative    761\n",
      "27  CBE     features  negative     93\n",
      "36  CBE  performance  negative     39\n",
      "\n",
      "Top Drivers for BOA:\n",
      "    bank   themes sentiment  count\n",
      "11  BOA    other  positive    375\n",
      "1   BOA       UX  positive     12\n",
      "16  BOA  support  positive      5\n",
      "\n",
      "Top Pain Points for BOA:\n",
      "    bank       themes sentiment  count\n",
      "10  BOA        other  negative    426\n",
      "12  BOA  performance  negative     58\n",
      "2   BOA       access  negative     26\n",
      "\n",
      "Top Drivers for Dashen:\n",
      "       bank    themes sentiment  count\n",
      "61  Dashen     other  positive    258\n",
      "49  Dashen        UX  positive     47\n",
      "54  Dashen  features  positive     12\n",
      "\n",
      "Top Pain Points for Dashen:\n",
      "       bank       themes sentiment  count\n",
      "60  Dashen        other  negative     86\n",
      "62  Dashen  performance  negative      7\n",
      "53  Dashen     features  negative      6\n"
     ]
    }
   ],
   "source": [
    "# Group themes by sentiment\n",
    "grouped = df.groupby([\"bank\", \"themes\", \"sentiment\"]).size().reset_index(name=\"count\")\n",
    "\n",
    "# Focus on top positive & negative themes per bank\n",
    "drivers = grouped[grouped[\"sentiment\"] == \"positive\"].sort_values(\"count\", ascending=False)\n",
    "pain_points = grouped[grouped[\"sentiment\"] == \"negative\"].sort_values(\"count\", ascending=False)\n",
    "\n",
    "# Display top 3 themes for each\n",
    "for bank in df[\"bank\"].unique():\n",
    "    print(f\"\\nTop Drivers for {bank}:\\n\", drivers[drivers[\"bank\"] == bank].head(3))\n",
    "    print(f\"\\nTop Pain Points for {bank}:\\n\", pain_points[pain_points[\"bank\"] == bank].head(3))\n"
   ]
  },
  {
   "cell_type": "code",
   "execution_count": 8,
   "id": "1419b57b-d7c1-4abe-b4c0-20d3958c562c",
   "metadata": {},
   "outputs": [
    {
     "data": {
      "image/png": "[encoded data removed]",
      "text/plain": [
       "<Figure size 640x480 with 1 Axes>"
      ]
     },
     "metadata": {},
     "output_type": "display_data"
    }
   ],
   "source": [
    "sns.countplot(data=df, x=\"bank\", hue=\"sentiment\")\n",
    "plt.title(\"Sentiment Distribution by Bank\")\n",
    "plt.xlabel(\"Bank\")\n",
    "plt.ylabel(\"Number of Reviews\")\n",
    "plt.legend(title=\"Sentiment\")\n",
    "plt.tight_layout()\n",
    "plt.show()\n"
   ]
  },
  {
   "cell_type": "code",
   "execution_count": null,
   "id": "01489a5d-0ca5-4486-816b-f6546aff87d6",
   "metadata": {},
   "outputs": [],
   "source": []
  }
 ],
 "metadata": {
  "kernelspec": {
   "display_name": "bank-app-env",
   "language": "python",
   "name": "bank-app-env"
  },
  "language_info": {
   "codemirror_mode": {
    "name": "ipython",
    "version": 3
   },
   "file_extension": ".py",
   "mimetype": "text/x-python",
   "name": "python",
   "nbconvert_exporter": "python",
   "pygments_lexer": "ipython3",
   "version": "3.11.4"
  }
 },
 "nbformat": 4,
 "nbformat_minor": 5
}
