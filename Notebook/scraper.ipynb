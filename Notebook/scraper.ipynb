{
 "cells": [
  {
   "cell_type": "code",
   "execution_count": 1,
   "id": "1507099d-d290-44b9-b9ba-62c360cc8c8f",
   "metadata": {},
   "outputs": [],
   "source": [
    "from google_play_scraper import Sort, reviews\n",
    "import pandas as pd"
   ]
  },
  {
   "cell_type": "code",
   "execution_count": 5,
   "id": "807c0708-d888-4e28-b63f-6cbf0402ff1a",
   "metadata": {},
   "outputs": [],
   "source": [
    "def get_reviews(app_id, bank_name):\n",
    "    all_reviews = []\n",
    "    for score in range(1, 6):  # Get reviews for 1-5 stars\n",
    "        rvs, _ = reviews(app_id, lang='en', country='us', sort=Sort.NEWEST, count=400, filter_score_with=score)\n",
    "        for r in rvs:\n",
    "            all_reviews.append({\n",
    "                \"review\": r['content'],\n",
    "                \"rating\": r['score'],\n",
    "                \"date\": r['at'].date().isoformat(),\n",
    "                \"bank\": bank_name,\n",
    "                \"source\": \"Google Play\"\n",
    "            })\n",
    "    return all_reviews\n",
    "\n",
    "data = []\n",
    "data += get_reviews(\"com.combanketh.mobilebanking\", \"CBE\")\n",
    "data += get_reviews(\"com.boa.boaMobileBanking\", \"BOA\")\n",
    "data += get_reviews(\"com.dashen.dashensuperapp\", \"Dashen\")"
   ]
  },
  {
   "cell_type": "code",
   "execution_count": 6,
   "id": "07d41699-b364-4137-b466-01922f042bdb",
   "metadata": {},
   "outputs": [
    {
     "name": "stdout",
     "output_type": "stream",
     "text": [
      "3316\n"
     ]
    }
   ],
   "source": [
    "print(len(data))"
   ]
  },
  {
   "cell_type": "code",
   "execution_count": 8,
   "id": "4520e29e-3303-45d6-aa49-5a73637e3ab5",
   "metadata": {},
   "outputs": [],
   "source": [
    "df = pd.DataFrame(data).drop_duplicates().dropna()\n",
    "df.to_csv(\"data/cleaned_reviews.csv\", index=False)"
   ]
  },
  {
   "cell_type": "code",
   "execution_count": 11,
   "id": "6aa6a85b-b0b2-4c30-b35e-550372c250b0",
   "metadata": {},
   "outputs": [],
   "source": [
    "# Load the scraped data\n",
    "df = pd.read_csv(\"data/cleaned_reviews.csv\")\n",
    "\n",
    "# Check total number of reviews\n",
    "total_reviews = len(df)"
   ]
  },
  {
   "cell_type": "code",
   "execution_count": 14,
   "id": "d9401405-702d-4290-90fe-84cf666e90c4",
   "metadata": {},
   "outputs": [
    {
     "name": "stdout",
     "output_type": "stream",
     "text": [
      "0.0\n"
     ]
    }
   ],
   "source": [
    "missing_review = df['review'].isnull().sum()\n",
    "missing_pct = missing_review/total_reviews * 100\n",
    "print(missing_pct)"
   ]
  },
  {
   "cell_type": "code",
   "execution_count": 15,
   "id": "43f3941c-4c6a-43ad-b4ea-e7234c2932a5",
   "metadata": {},
   "outputs": [
    {
     "data": {
      "text/html": [
       "<div>\n",
       "<style scoped>\n",
       "    .dataframe tbody tr th:only-of-type {\n",
       "        vertical-align: middle;\n",
       "    }\n",
       "\n",
       "    .dataframe tbody tr th {\n",
       "        vertical-align: top;\n",
       "    }\n",
       "\n",
       "    .dataframe thead th {\n",
       "        text-align: right;\n",
       "    }\n",
       "</style>\n",
       "<table border=\"1\" class=\"dataframe\">\n",
       "  <thead>\n",
       "    <tr style=\"text-align: right;\">\n",
       "      <th></th>\n",
       "      <th>review</th>\n",
       "      <th>rating</th>\n",
       "      <th>date</th>\n",
       "      <th>bank</th>\n",
       "      <th>source</th>\n",
       "    </tr>\n",
       "  </thead>\n",
       "  <tbody>\n",
       "    <tr>\n",
       "      <th>0</th>\n",
       "      <td>what is this app problem???</td>\n",
       "      <td>1</td>\n",
       "      <td>2025-06-05</td>\n",
       "      <td>CBE</td>\n",
       "      <td>Google Play</td>\n",
       "    </tr>\n",
       "    <tr>\n",
       "      <th>1</th>\n",
       "      <td>not functional</td>\n",
       "      <td>1</td>\n",
       "      <td>2025-06-05</td>\n",
       "      <td>CBE</td>\n",
       "      <td>Google Play</td>\n",
       "    </tr>\n",
       "    <tr>\n",
       "      <th>2</th>\n",
       "      <td>everytime you uninstall the app you have to re...</td>\n",
       "      <td>1</td>\n",
       "      <td>2025-06-04</td>\n",
       "      <td>CBE</td>\n",
       "      <td>Google Play</td>\n",
       "    </tr>\n",
       "    <tr>\n",
       "      <th>3</th>\n",
       "      <td>yetemeta</td>\n",
       "      <td>1</td>\n",
       "      <td>2025-06-03</td>\n",
       "      <td>CBE</td>\n",
       "      <td>Google Play</td>\n",
       "    </tr>\n",
       "    <tr>\n",
       "      <th>4</th>\n",
       "      <td>it is not safety</td>\n",
       "      <td>1</td>\n",
       "      <td>2025-06-03</td>\n",
       "      <td>CBE</td>\n",
       "      <td>Google Play</td>\n",
       "    </tr>\n",
       "  </tbody>\n",
       "</table>\n",
       "</div>"
      ],
      "text/plain": [
       "                                              review  rating        date bank  \\\n",
       "0                        what is this app problem???       1  2025-06-05  CBE   \n",
       "1                                     not functional       1  2025-06-05  CBE   \n",
       "2  everytime you uninstall the app you have to re...       1  2025-06-04  CBE   \n",
       "3                                           yetemeta       1  2025-06-03  CBE   \n",
       "4                                   it is not safety       1  2025-06-03  CBE   \n",
       "\n",
       "        source  \n",
       "0  Google Play  \n",
       "1  Google Play  \n",
       "2  Google Play  \n",
       "3  Google Play  \n",
       "4  Google Play  "
      ]
     },
     "execution_count": 15,
     "metadata": {},
     "output_type": "execute_result"
    }
   ],
   "source": [
    "df.head()"
   ]
  },
  {
   "cell_type": "code",
   "execution_count": null,
   "id": "5743eeb2-0922-42be-bf39-6788695eb66a",
   "metadata": {},
   "outputs": [],
   "source": []
  }
 ],
 "metadata": {
  "kernelspec": {
   "display_name": "bank-app-env",
   "language": "python",
   "name": "bank-app-env"
  },
  "language_info": {
   "codemirror_mode": {
    "name": "ipython",
    "version": 3
   },
   "file_extension": ".py",
   "mimetype": "text/x-python",
   "name": "python",
   "nbconvert_exporter": "python",
   "pygments_lexer": "ipython3",
   "version": "3.11.4"
  }
 },
 "nbformat": 4,
 "nbformat_minor": 5
}
