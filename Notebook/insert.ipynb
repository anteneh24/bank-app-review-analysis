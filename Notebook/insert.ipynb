{
 "cells": [
  {
   "cell_type": "code",
   "execution_count": 4,
   "id": "f2bb684f-7d77-4dc4-a93f-c99884d5a6bc",
   "metadata": {},
   "outputs": [],
   "source": [
    "import pandas as pd"
   ]
  },
  {
   "cell_type": "code",
   "execution_count": null,
   "id": "0cc67fc6-67c2-47fb-9c05-26be8b33d147",
   "metadata": {},
   "outputs": [],
   "source": [
    "# Load processed reviews\n",
    "df = pd.read_csv(\"data/thematic_reviews.csv\")"
   ]
  },
  {
   "cell_type": "code",
   "execution_count": null,
   "id": "0a84cfaf-53ca-4657-beb6-221a77a11e40",
   "metadata": {},
   "outputs": [],
   "source": [
    "import cx_Oracle\n",
    "# Oracle connection (adjust with your credentials)\n",
    "conn = cx_Oracle.connect(user=\"bank_reviews\", password=\"strong_password\", dsn=\"localhost/XE\")\n",
    "cursor = conn.cursor()\n",
    "\n",
    "# Get unique banks and insert them\n",
    "banks = df[\"bank\"].unique()\n",
    "bank_id_map = {}\n",
    "\n",
    "for bank in banks:\n",
    "    cursor.execute(\"INSERT INTO banks (name) VALUES (:1) RETURNING bank_id INTO :2\", (bank, cursor.var(cx_Oracle.NUMBER)))\n",
    "    bank_id = cursor.fetchone()[0]\n",
    "    bank_id_map[bank] = bank_id\n",
    "\n",
    "# Insert reviews\n",
    "for _, row in df.iterrows():\n",
    "    cursor.execute(\"\"\"\n",
    "        INSERT INTO reviews (bank_id, review_text, rating, review_date, sentiment_label, sentiment_score, themes)\n",
    "        VALUES (:1, :2, :3, TO_DATE(:4, 'YYYY-MM-DD'), :5, :6, :7)\n",
    "    \"\"\", (\n",
    "        bank_id_map[row[\"bank\"]],\n",
    "        row[\"review\"],\n",
    "        int(row[\"rating\"]),\n",
    "        row[\"date\"][:10],\n",
    "        row[\"sentiment_label\"],\n",
    "        float(row[\"sentiment_score\"]),\n",
    "        row[\"themes\"]\n",
    "    ))\n",
    "\n",
    "conn.commit()\n",
    "cursor.close()\n",
    "conn.close()\n",
    "print(\"✅ Data inserted into Oracle.\")"
   ]
  }
 ],
 "metadata": {
  "kernelspec": {
   "display_name": "Python 3 (ipykernel)",
   "language": "python",
   "name": "python3"
  },
  "language_info": {
   "codemirror_mode": {
    "name": "ipython",
    "version": 3
   },
   "file_extension": ".py",
   "mimetype": "text/x-python",
   "name": "python",
   "nbconvert_exporter": "python",
   "pygments_lexer": "ipython3",
   "version": "3.11.4"
  }
 },
 "nbformat": 4,
 "nbformat_minor": 5
}
